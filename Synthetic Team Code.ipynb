{
 "cells": [
  {
   "cell_type": "code",
   "execution_count": 3,
   "metadata": {},
   "outputs": [
    {
     "name": "stderr",
     "output_type": "stream",
     "text": [
      "Updating HTML index of packages in '.Library'\n",
      "Making 'packages.html' ... done\n"
     ]
    }
   ],
   "source": [
    "install.packages(\"Lahman\")"
   ]
  },
  {
   "cell_type": "code",
   "execution_count": 4,
   "metadata": {},
   "outputs": [
    {
     "name": "stderr",
     "output_type": "stream",
     "text": [
      "Updating HTML index of packages in '.Library'\n",
      "Making 'packages.html' ... done\n"
     ]
    }
   ],
   "source": [
    "install.packages(\"data.table\")"
   ]
  },
  {
   "cell_type": "code",
   "execution_count": 5,
   "metadata": {},
   "outputs": [],
   "source": [
    "library(\"Lahman\")"
   ]
  },
  {
   "cell_type": "code",
   "execution_count": 6,
   "metadata": {},
   "outputs": [],
   "source": [
    "library(\"data.table\")"
   ]
  },
  {
   "cell_type": "code",
   "execution_count": 7,
   "metadata": {},
   "outputs": [],
   "source": [
    "salaries = as.data.table(Salaries)"
   ]
  },
  {
   "cell_type": "code",
   "execution_count": 8,
   "metadata": {},
   "outputs": [],
   "source": [
    "salaries = salaries[, .(playerID, yearID, \n",
    "                  teamID = as.character(teamID),\n",
    "                  salary)]"
   ]
  },
  {
   "cell_type": "code",
   "execution_count": 9,
   "metadata": {},
   "outputs": [
    {
     "data": {
      "text/plain": [
       "   playerID             yearID        teamID              salary        \n",
       " Length:26428       Min.   :1985   Length:26428       Min.   :       0  \n",
       " Class :character   1st Qu.:1994   Class :character   1st Qu.:  294702  \n",
       " Mode  :character   Median :2001   Mode  :character   Median :  550000  \n",
       "                    Mean   :2001                      Mean   : 2085634  \n",
       "                    3rd Qu.:2009                      3rd Qu.: 2350000  \n",
       "                    Max.   :2016                      Max.   :33000000  "
      ]
     },
     "metadata": {},
     "output_type": "display_data"
    }
   ],
   "source": [
    "summary(salaries)"
   ]
  },
  {
   "cell_type": "code",
   "execution_count": 16,
   "metadata": {},
   "outputs": [],
   "source": [
    "salariesP <- salaries[yearID >= \"2016\"]"
   ]
  },
  {
   "cell_type": "code",
   "execution_count": 17,
   "metadata": {},
   "outputs": [
    {
     "data": {
      "text/plain": [
       "   playerID             yearID        teamID              salary        \n",
       " Length:853         Min.   :2016   Length:853         Min.   :  507500  \n",
       " Class :character   1st Qu.:2016   Class :character   1st Qu.:  520000  \n",
       " Mode  :character   Median :2016   Mode  :character   Median : 1500000  \n",
       "                    Mean   :2016                      Mean   : 4396410  \n",
       "                    3rd Qu.:2016                      3rd Qu.: 6000000  \n",
       "                    Max.   :2016                      Max.   :33000000  "
      ]
     },
     "metadata": {},
     "output_type": "display_data"
    }
   ],
   "source": [
    "summary(salariesP)"
   ]
  },
  {
   "cell_type": "code",
   "execution_count": 18,
   "metadata": {},
   "outputs": [
    {
     "data": {
      "text/html": [
       "<table>\n",
       "<thead><tr><th scope=col>playerID</th><th scope=col>yearID</th><th scope=col>teamID</th><th scope=col>salary</th></tr></thead>\n",
       "<tbody>\n",
       "\t<tr><td>ahmedni01</td><td>2016     </td><td>ARI      </td><td> 521600  </td></tr>\n",
       "\t<tr><td>barreja01</td><td>2016     </td><td>ARI      </td><td> 507500  </td></tr>\n",
       "\t<tr><td>brachsi01</td><td>2016     </td><td>ARI      </td><td> 509300  </td></tr>\n",
       "\t<tr><td>britoso01</td><td>2016     </td><td>ARI      </td><td> 508500  </td></tr>\n",
       "\t<tr><td>castiwe01</td><td>2016     </td><td>ARI      </td><td>3700000  </td></tr>\n",
       "\t<tr><td>chafian01</td><td>2016     </td><td>ARI      </td><td> 519700  </td></tr>\n",
       "</tbody>\n",
       "</table>\n"
      ],
      "text/latex": [
       "\\begin{tabular}{r|llll}\n",
       " playerID & yearID & teamID & salary\\\\\n",
       "\\hline\n",
       "\t ahmedni01 & 2016      & ARI       &  521600  \\\\\n",
       "\t barreja01 & 2016      & ARI       &  507500  \\\\\n",
       "\t brachsi01 & 2016      & ARI       &  509300  \\\\\n",
       "\t britoso01 & 2016      & ARI       &  508500  \\\\\n",
       "\t castiwe01 & 2016      & ARI       & 3700000  \\\\\n",
       "\t chafian01 & 2016      & ARI       &  519700  \\\\\n",
       "\\end{tabular}\n"
      ],
      "text/markdown": [
       "\n",
       "playerID | yearID | teamID | salary | \n",
       "|---|---|---|---|---|---|\n",
       "| ahmedni01 | 2016      | ARI       |  521600   | \n",
       "| barreja01 | 2016      | ARI       |  507500   | \n",
       "| brachsi01 | 2016      | ARI       |  509300   | \n",
       "| britoso01 | 2016      | ARI       |  508500   | \n",
       "| castiwe01 | 2016      | ARI       | 3700000   | \n",
       "| chafian01 | 2016      | ARI       |  519700   | \n",
       "\n",
       "\n"
      ],
      "text/plain": [
       "  playerID  yearID teamID salary \n",
       "1 ahmedni01 2016   ARI     521600\n",
       "2 barreja01 2016   ARI     507500\n",
       "3 brachsi01 2016   ARI     509300\n",
       "4 britoso01 2016   ARI     508500\n",
       "5 castiwe01 2016   ARI    3700000\n",
       "6 chafian01 2016   ARI     519700"
      ]
     },
     "metadata": {},
     "output_type": "display_data"
    }
   ],
   "source": [
    "head(salariesP)"
   ]
  },
  {
   "cell_type": "code",
   "execution_count": 19,
   "metadata": {},
   "outputs": [
    {
     "data": {
      "text/html": [
       "4396409.60375147"
      ],
      "text/latex": [
       "4396409.60375147"
      ],
      "text/markdown": [
       "4396409.60375147"
      ],
      "text/plain": [
       "[1] 4396410"
      ]
     },
     "metadata": {},
     "output_type": "display_data"
    }
   ],
   "source": [
    "mean(salariesP$salary)"
   ]
  },
  {
   "cell_type": "code",
   "execution_count": 20,
   "metadata": {},
   "outputs": [
    {
     "data": {
      "text/html": [
       "109910240.093787"
      ],
      "text/latex": [
       "109910240.093787"
      ],
      "text/markdown": [
       "109910240.093787"
      ],
      "text/plain": [
       "[1] 109910240"
      ]
     },
     "metadata": {},
     "output_type": "display_data"
    }
   ],
   "source": [
    "mean(salariesP$salary)*25"
   ]
  }
 ],
 "metadata": {
  "kernelspec": {
   "display_name": "R",
   "language": "R",
   "name": "ir"
  },
  "language_info": {
   "codemirror_mode": "r",
   "file_extension": ".r",
   "mimetype": "text/x-r-source",
   "name": "R",
   "pygments_lexer": "r",
   "version": "3.5.1"
  }
 },
 "nbformat": 4,
 "nbformat_minor": 2
}
